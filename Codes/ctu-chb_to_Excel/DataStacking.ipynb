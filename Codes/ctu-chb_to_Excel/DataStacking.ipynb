{
 "cells": [
  {
   "cell_type": "code",
   "execution_count": 1,
   "id": "9db34bf7",
   "metadata": {},
   "outputs": [],
   "source": []
  },
  {
   "cell_type": "markdown",
   "id": "ce21df6b",
   "metadata": {},
   "source": [
    "**There is a brief issue with this code that generate 1 for apgar1, 5 for apgar5, and 2for pCO2 features.**"
   ]
  },
  {
   "cell_type": "code",
   "execution_count": 5,
   "id": "253244b5",
   "metadata": {},
   "outputs": [
    {
     "name": "stdout",
     "output_type": "stream",
     "text": [
      "Data has been saved to output.csv\n"
     ]
    }
   ],
   "source": [
    "import os\n",
    "import pandas as pd\n",
    "import wfdb\n",
    "import re\n",
    "\n",
    "# Directory containing .hea files\n",
    "directory_path = r\"C:\\Users\\Jaber\\OneDrive - University of Florida\\Educational\\Codes\\Jupyter\\Directory\\Research\\ctu-chb\\rawdata\"\n",
    "\n",
    "# List to store data from .hea files\n",
    "data_list = []\n",
    "\n",
    "# Define the features you want to extract\n",
    "features_to_extract = [\n",
    "    \"pH\", \"BDecf\", \"pCO2\", \"BE\", \"Apgar1\", \"Apgar5\",\n",
    "    \"NICU days\", \"Seizures\", \"HIE\", \"Intubation\",\n",
    "    \"Main diag.\", \"Other diag.\", \"Gest. weeks\",\n",
    "    \"Weight(g)\", \"Sex\", \"Age\", \"Gravidity\", \"Parity\",\n",
    "    \"Diabetes\", \"Hypertension\", \"Preeclampsia\", \"Liq. praecox\",\n",
    "    \"Pyrexia\", \"Meconium\", \"Presentation\", \"Induced\",\n",
    "    \"I.stage\", \"NoProgress\", \"CK/KP\", \"II.stage\",\n",
    "    \"Deliv. type\", \"dbID\", \"Rec. type\", \"Pos. II.st.\",\n",
    "    \"Sig2Birth\"\n",
    "]\n",
    "\n",
    "# Iterate through .hea files in the directory\n",
    "for filename in os.listdir(directory_path):\n",
    "    if filename.endswith(\".hea\"):\n",
    "        record_name = os.path.splitext(filename)[0]\n",
    "        record = wfdb.rdheader(os.path.join(directory_path, record_name))\n",
    "        comments = [c.strip() for c in record.comments]\n",
    "        record_values = []\n",
    "        for feature in features_to_extract:\n",
    "            for comment in comments:\n",
    "                if comment.startswith(feature):\n",
    "                    value = comment.split(\":\")[-1].strip()\n",
    "                    # Use regular expression to extract numerical values\n",
    "                    numerical_values = re.findall(r\"[-+]?\\d*\\.\\d+|\\d+\", value)\n",
    "                    if numerical_values:\n",
    "                        record_values.append(numerical_values[0])  # Keep the first numerical value\n",
    "                    else:\n",
    "                        record_values.append(\"\")  # If no numerical value is found, insert an empty value\n",
    "                    break\n",
    "            else:\n",
    "                # If the feature is not found in comments, insert an empty value\n",
    "                record_values.append(\"\")\n",
    "        data_list.append([record_name] + record_values)\n",
    "\n",
    "# Create a DataFrame from the list of lists\n",
    "columns = [\"Instance\"] + features_to_extract\n",
    "df = pd.DataFrame(data_list, columns=columns)\n",
    "\n",
    "# Save the DataFrame to a CSV file\n",
    "csv_filename = \"output.csv\"\n",
    "df.to_csv(csv_filename, index=False)\n",
    "\n",
    "print(f\"Data has been saved to {csv_filename}\")\n"
   ]
  },
  {
   "cell_type": "code",
   "execution_count": null,
   "id": "cde56256",
   "metadata": {},
   "outputs": [],
   "source": []
  },
  {
   "cell_type": "markdown",
   "id": "a2a0788a",
   "metadata": {},
   "source": [
    "# The final code"
   ]
  },
  {
   "cell_type": "code",
   "execution_count": 6,
   "id": "73c27200",
   "metadata": {},
   "outputs": [
    {
     "name": "stdout",
     "output_type": "stream",
     "text": [
      "Data has been saved to output.csv\n"
     ]
    }
   ],
   "source": [
    "import os\n",
    "import re\n",
    "import pandas as pd\n",
    "import wfdb\n",
    "\n",
    "# Directory containing .hea files\n",
    "directory_path = r\"C:\\Users\\Jaber\\OneDrive - University of Florida\\Educational\\Codes\\Jupyter\\Directory\\Research\\ctu-chb\\rawdata\"\n",
    "\n",
    "# List to store data from .hea files\n",
    "data_list = []\n",
    "\n",
    "# Define the features you want to extract\n",
    "features_to_extract = [\n",
    "    \"pH\", \"BDecf\", \"pCO2\", \"BE\", \"Apgar1\", \"Apgar5\",\n",
    "    \"NICU days\", \"Seizures\", \"HIE\", \"Intubation\",\n",
    "    \"Main diag.\", \"Other diag.\", \"Gest. weeks\",\n",
    "    \"Weight(g)\", \"Sex\", \"Age\", \"Gravidity\", \"Parity\",\n",
    "    \"Diabetes\", \"Hypertension\", \"Preeclampsia\", \"Liq. praecox\",\n",
    "    \"Pyrexia\", \"Meconium\", \"Presentation\", \"Induced\",\n",
    "    \"I.stage\", \"NoProgress\", \"CK/KP\", \"II.stage\",\n",
    "    \"Deliv. type\", \"dbID\", \"Rec. type\", \"Pos. II.st.\",\n",
    "    \"Sig2Birth\"\n",
    "]\n",
    "\n",
    "# Regular expressions to match patterns like \"pCO2 45.67\", \"Apgar1 9.5\", \"Apgar5 7.8\"\n",
    "pattern_pCO2 = re.compile(r'pCO2\\s+([\\d.]+)')\n",
    "pattern_Apgar1 = re.compile(r'Apgar1\\s+([\\d.]+)')\n",
    "pattern_Apgar5 = re.compile(r'Apgar5\\s+([\\d.]+)')\n",
    "\n",
    "# Iterate through .hea files in the directory\n",
    "for filename in os.listdir(directory_path):\n",
    "    if filename.endswith(\".hea\"):\n",
    "        record_name = os.path.splitext(filename)[0]\n",
    "        record = wfdb.rdheader(os.path.join(directory_path, record_name))\n",
    "        comments = [c.strip() for c in record.comments]\n",
    "        record_values = []\n",
    "\n",
    "        for feature in features_to_extract:\n",
    "            if feature == \"pCO2\":\n",
    "                match = pattern_pCO2.search(\" \".join(comments))\n",
    "                if match:\n",
    "                    value = match.group(1)\n",
    "                else:\n",
    "                    value = \"\"\n",
    "            elif feature == \"Apgar1\":\n",
    "                match = pattern_Apgar1.search(\" \".join(comments))\n",
    "                if match:\n",
    "                    value = match.group(1)\n",
    "                else:\n",
    "                    value = \"\"\n",
    "            elif feature == \"Apgar5\":\n",
    "                match = pattern_Apgar5.search(\" \".join(comments))\n",
    "                if match:\n",
    "                    value = match.group(1)\n",
    "                else:\n",
    "                    value = \"\"\n",
    "            else:\n",
    "                for comment in comments:\n",
    "                    if comment.startswith(feature):\n",
    "                        value = comment.split(\":\")[-1].strip()\n",
    "                        numerical_values = re.findall(r\"[-+]?\\d*\\.\\d+|\\d+\", value)\n",
    "                        if numerical_values:\n",
    "                            value = numerical_values[0]\n",
    "                        else:\n",
    "                            value = \"\"\n",
    "                        break\n",
    "                else:\n",
    "                    value = \"\"\n",
    "            \n",
    "            record_values.append(value)\n",
    "        \n",
    "        data_list.append([record_name] + record_values)\n",
    "\n",
    "# Create a DataFrame from the list of lists\n",
    "columns = [\"Instance\"] + features_to_extract\n",
    "df = pd.DataFrame(data_list, columns=columns)\n",
    "\n",
    "# Save the DataFrame to a CSV file\n",
    "csv_filename = \"output.csv\"\n",
    "df.to_csv(csv_filename, index=False)\n",
    "\n",
    "print(f\"Data has been saved to {csv_filename}\")\n"
   ]
  },
  {
   "cell_type": "code",
   "execution_count": null,
   "id": "9b42642e",
   "metadata": {},
   "outputs": [],
   "source": []
  }
 ],
 "metadata": {
  "kernelspec": {
   "display_name": "Python 3 (ipykernel)",
   "language": "python",
   "name": "python3"
  },
  "language_info": {
   "codemirror_mode": {
    "name": "ipython",
    "version": 3
   },
   "file_extension": ".py",
   "mimetype": "text/x-python",
   "name": "python",
   "nbconvert_exporter": "python",
   "pygments_lexer": "ipython3",
   "version": "3.9.13"
  }
 },
 "nbformat": 4,
 "nbformat_minor": 5
}
