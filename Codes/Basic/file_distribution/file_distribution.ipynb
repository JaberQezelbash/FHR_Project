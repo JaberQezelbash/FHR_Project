{
 "cells": [
  {
   "cell_type": "code",
   "execution_count": 4,
   "id": "3f350a53",
   "metadata": {},
   "outputs": [
    {
     "name": "stdout",
     "output_type": "stream",
     "text": [
      "File distribution saved to: C:/Users/Jaber/OneDrive - University of Florida/Educational/Research/FHRT/PROJECT/Codes//Basic/file_distribution/file_distribution.txt\n"
     ]
    }
   ],
   "source": [
    "# Define the folder names and their corresponding number of files\n",
    "folders = {\n",
    "    \"3c\": 219, \"6c\": 140, \"10c\": 209, \"14c\": 322, \"15c\": 25,\n",
    "    \"18c\": 40, \"23c\": 79, \"26c\": 317, \"27c\": 196, \"35c\": 362,\n",
    "    \"36c\": 209, \"37c\": 342, \"41c\": 200, \"42c\": 151, \"54c\": 224,\n",
    "    \"55c\": 151, \"56c\": 119, \"57c\": 124, \"58c\": 118, \"59c\": 142,\n",
    "    \"61c\": 90, \"62c\": 169, \"5s\":89, \"7s\": 162, \"13s\": 80, \"16s\": 129,\n",
    "    \"17s\": 297, \"20s\": 202, \"21s\": 383, \"25s\": 134, \"28s\": 378,\n",
    "    \"30s\": 317, \"34s\": 81, \"39s\": 149, \"40s\": 303, \"43s\": 223,\n",
    "    \"44s\": 301, \"45s\": 388, \"46s\": 140, \"47s\": 265, \"48s\": 185,\n",
    "    \"49s\": 156, \"50s\": 38, \"53s\": 105\n",
    "}\n",
    "\n",
    "# Calculate total number of files\n",
    "total_files = sum(folders.values())\n",
    "\n",
    "# Calculate number of files each person should get\n",
    "files_per_person = total_files // 7\n",
    "\n",
    "# Initialize variables to store files for each person\n",
    "person_files = [[] for _ in range(7)]\n",
    "person_total_files = [0] * 7\n",
    "\n",
    "# Sort folders by their sizes (number of files)\n",
    "sorted_folders = sorted(folders.items(), key=lambda x: x[1], reverse=True)\n",
    "\n",
    "# Distribute files among people\n",
    "for folder, num_files in sorted_folders:\n",
    "    # Find the person with the smallest total size so far\n",
    "    min_person = min(range(7), key=lambda x: person_total_files[x])\n",
    "    \n",
    "    # Assign the folder to that person\n",
    "    person_files[min_person].append((folder, num_files))\n",
    "    person_total_files[min_person] += num_files\n",
    "\n",
    "# Write the output to a text file\n",
    "output_file_path = \"C:/Users/Jaber/OneDrive - University of Florida/Educational/Research/FHRT/PROJECT/Codes//Basic/file_distribution/file_distribution.txt\"\n",
    "with open(output_file_path, \"w\") as file:\n",
    "    for i, files in enumerate(person_files):\n",
    "        file.write(f\"Person {i+1}:\\n\")\n",
    "        for f in files:\n",
    "            file.write(f\"{f[0]}: {f[1]} files\\n\")\n",
    "        file.write(f\"Total number of files: {person_total_files[i]} files\\n\\n\")\n",
    "\n",
    "print(\"File distribution saved to:\", output_file_path)\n"
   ]
  },
  {
   "cell_type": "code",
   "execution_count": null,
   "id": "dbed8bfd",
   "metadata": {},
   "outputs": [],
   "source": []
  }
 ],
 "metadata": {
  "kernelspec": {
   "display_name": "Python 3 (ipykernel)",
   "language": "python",
   "name": "python3"
  },
  "language_info": {
   "codemirror_mode": {
    "name": "ipython",
    "version": 3
   },
   "file_extension": ".py",
   "mimetype": "text/x-python",
   "name": "python",
   "nbconvert_exporter": "python",
   "pygments_lexer": "ipython3",
   "version": "3.9.13"
  }
 },
 "nbformat": 4,
 "nbformat_minor": 5
}
