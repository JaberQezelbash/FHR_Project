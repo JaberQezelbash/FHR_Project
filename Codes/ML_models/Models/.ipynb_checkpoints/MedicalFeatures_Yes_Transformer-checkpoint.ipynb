{
 "cells": [
  {
   "cell_type": "markdown",
   "id": "5f9825f7-9ec3-4689-8b4a-3bb43ddf6d38",
   "metadata": {},
   "source": [
    "## With Medical Features - Transformer Model"
   ]
  },
  {
   "cell_type": "code",
   "execution_count": null,
   "id": "252cd3a6-7069-476f-b5c8-3800163ae51e",
   "metadata": {},
   "outputs": [],
   "source": []
  }
 ],
 "metadata": {
  "kernelspec": {
   "display_name": "Python 3 (ipykernel)",
   "language": "python",
   "name": "python3"
  },
  "language_info": {
   "codemirror_mode": {
    "name": "ipython",
    "version": 3
   },
   "file_extension": ".py",
   "mimetype": "text/x-python",
   "name": "python",
   "nbconvert_exporter": "python",
   "pygments_lexer": "ipython3",
   "version": "3.11.7"
  }
 },
 "nbformat": 4,
 "nbformat_minor": 5
}
