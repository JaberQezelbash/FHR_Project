{
 "cells": [
  {
   "cell_type": "markdown",
   "id": "ee55d0d6-c6a9-46a4-abc7-f3cae1b5a2a8",
   "metadata": {},
   "source": [
    "Testing ANN for Sliding Window models. I want to see if I can automatic the two stage model for Sliding Window mechanism."
   ]
  },
  {
   "cell_type": "code",
   "execution_count": null,
   "id": "8d3360b5-e2c8-4190-898e-beb9bb997a45",
   "metadata": {},
   "outputs": [],
   "source": []
  },
  {
   "cell_type": "code",
   "execution_count": null,
   "id": "6485aadb-d31e-4710-a984-ab24b8500dd6",
   "metadata": {},
   "outputs": [],
   "source": []
  }
 ],
 "metadata": {
  "kernelspec": {
   "display_name": "Python 3 (ipykernel)",
   "language": "python",
   "name": "python3"
  },
  "language_info": {
   "codemirror_mode": {
    "name": "ipython",
    "version": 3
   },
   "file_extension": ".py",
   "mimetype": "text/x-python",
   "name": "python",
   "nbconvert_exporter": "python",
   "pygments_lexer": "ipython3",
   "version": "3.11.7"
  }
 },
 "nbformat": 4,
 "nbformat_minor": 5
}
